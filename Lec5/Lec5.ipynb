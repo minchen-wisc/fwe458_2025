{
  "nbformat": 4,
  "nbformat_minor": 0,
  "metadata": {
    "colab": {
      "provenance": [],
      "authorship_tag": "ABX9TyPnkPBINvfwOwcsAMHGxLZx",
      "include_colab_link": true
    },
    "kernelspec": {
      "name": "python3",
      "display_name": "Python 3"
    },
    "language_info": {
      "name": "python"
    }
  },
  "cells": [
    {
      "cell_type": "markdown",
      "metadata": {
        "id": "view-in-github",
        "colab_type": "text"
      },
      "source": [
        "<a href=\"https://colab.research.google.com/github/minchen-wisc/FWE458_Spring2024/blob/main/Lec_5_Functions_in_Python.ipynb\" target=\"_parent\"><img src=\"https://colab.research.google.com/assets/colab-badge.svg\" alt=\"Open In Colab\"/></a>"
      ]
    },
    {
      "cell_type": "markdown",
      "source": [
        "# ***Functions: reusable blocks of code designed to perform a specific task.***"
      ],
      "metadata": {
        "id": "G9B41MBsSU4j"
      }
    },
    {
      "cell_type": "code",
      "source": [
        "# Example: A simple print function\n",
        "def greet():\n",
        "    print(\"Hello, welcome to Python functions!\")\n"
      ],
      "metadata": {
        "id": "OyFKX9nySpbj"
      },
      "execution_count": null,
      "outputs": []
    },
    {
      "cell_type": "markdown",
      "source": [
        "The above code defines a function named \"greet\".\n",
        "\n",
        "Now we can call it:\n",
        "\n"
      ],
      "metadata": {
        "id": "VAEBK8UoSUYq"
      }
    },
    {
      "cell_type": "code",
      "source": [
        "# call the simple print function\n",
        "greet()"
      ],
      "metadata": {
        "colab": {
          "base_uri": "https://localhost:8080/"
        },
        "id": "c6g-zH4mTQs8",
        "outputId": "0db65c91-f981-41f3-aede-b2320afe8347"
      },
      "execution_count": null,
      "outputs": [
        {
          "output_type": "stream",
          "name": "stdout",
          "text": [
            "Hello, welcome to Python functions!\n"
          ]
        }
      ]
    },
    {
      "cell_type": "markdown",
      "source": [
        "We can make it a little bit more complicated with parameters"
      ],
      "metadata": {
        "id": "83wkWdwcTfhd"
      }
    },
    {
      "cell_type": "code",
      "source": [
        "# Example: Function with parameters\n",
        "def greet(name):\n",
        "    print(f\"Hello, {name}, welcome to Python functions!\")\n",
        "\n",
        "greet(\"Min\")  # Passing \"Alice\" as an argument\n"
      ],
      "metadata": {
        "colab": {
          "base_uri": "https://localhost:8080/"
        },
        "id": "TO-v5eGETeS7",
        "outputId": "b9bc4d56-1990-4ddd-ab7a-77a061fcfdc4"
      },
      "execution_count": null,
      "outputs": [
        {
          "output_type": "stream",
          "name": "stdout",
          "text": [
            "Hello, Min, welcome to Python functions!\n"
          ]
        }
      ]
    },
    {
      "cell_type": "code",
      "source": [
        "def add_numbers(a, b):\n",
        "    \"\"\"Adds two numbers and returns the sum.\"\"\"\n",
        "    result = a + b\n",
        "    return result\n",
        "\n",
        "print(add_numbers(1, 2))"
      ],
      "metadata": {
        "colab": {
          "base_uri": "https://localhost:8080/"
        },
        "id": "FHR6jWU8UClm",
        "outputId": "623f1152-2b94-43f8-a24a-1216f5fa1134"
      },
      "execution_count": null,
      "outputs": [
        {
          "output_type": "stream",
          "name": "stdout",
          "text": [
            "3\n"
          ]
        }
      ]
    },
    {
      "cell_type": "markdown",
      "source": [
        "## **Grammar of a function in Python**\n",
        "\n",
        "The grammar of a function in Python programming involves several key components that define how functions are structured and behave. Understanding this grammar is crucial for writing and interpreting functions effectively. Here's a breakdown of the essential elements:\n",
        "\n",
        "### 1. Function Definition Keyword: `def`\n",
        "- The `def` keyword is used to start the definition of a function. It signals to Python that what follows is a function declaration.\n",
        "\n",
        "### 2. Function Name\n",
        "- After `def`, you specify the function's name. Function names follow the same naming conventions as variables in Python. They should be lowercase, with words separated by underscores if needed, and they should be descriptive of what the function does.\n",
        "\n",
        "### 3. Parentheses `()` and Parameters\n",
        "- Following the function name are parentheses. Inside these parentheses, you can define zero or more parameters. Parameters are variables whose values are passed into the function when it is called. They act as placeholders for the actual values (arguments) the function will operate on.\n",
        "- If the function does not take any parameters, the parentheses are left empty, but they are still required.\n",
        "\n",
        "### 4. Colon `:`\n",
        "- A colon `:` immediately follows the closing parenthesis. It signifies the end of the function header and the start of the function's body.\n",
        "\n",
        "### 5. Function Body\n",
        "- The body of the function is where the actual code resides. It is a block of statements that performs the function's intended task. The body is indented relative to the `def` keyword, typically by four spaces. This indentation is crucial as it defines the scope of the function's body in Python.\n",
        "  \n",
        "### 6. `return` Statement (Optional)\n",
        "- Within the function body, the `return` statement is used to exit the function and optionally pass back an expression to the caller. If a function does not explicitly return a value, Python implicitly returns `None`.\n",
        "- The `return` statement is not required. If your function performs an action without needing to send back a value, you can omit it.\n",
        "\n",
        "### Example of a Simple Function\n",
        "```python\n",
        "def add_numbers(a, b):\n",
        "    \"\"\"Adds two numbers and returns the sum.\"\"\"\n",
        "    result = a + b\n",
        "    return result\n",
        "```\n",
        "- `def` keyword begins the function definition.\n",
        "- `add_numbers` is the function name, descriptive of its action.\n",
        "- `(a, b)` are parameters, placeholders for the numbers to be added.\n",
        "- The colon `:` marks the end of the function declaration.\n",
        "- The body of the function, indented, consists of two lines: a calculation of the sum and the `return` statement.\n",
        "\n",
        "### Key Points to Remember\n",
        "- **Indentation**: The body of the function must be indented consistently to be recognized as part of the function.\n",
        "- **Scope**: Variables created inside a function (including parameters) are local to that function. They cannot be accessed from outside the function unless returned or explicitly defined as global.\n",
        "- **Documentation (Docstrings)**: While not part of the syntax, it's good practice to include a docstring at the beginning of your function body to explain what the function does."
      ],
      "metadata": {
        "id": "ZCFRglNWT0SF"
      }
    },
    {
      "cell_type": "markdown",
      "source": [
        "## **Excercise 1:** Apply knowledge of functions to create a simple calculator.\n",
        "Write functions to add, subtract, multiply, and divide two numbers, and call them to test if they work well."
      ],
      "metadata": {
        "id": "sGEq2hd-U10W"
      }
    },
    {
      "cell_type": "code",
      "source": [
        "def add(a, b):\n",
        "    return a + b\n",
        "\n",
        "def subtract(a, b):\n",
        "    return a - b\n",
        "\n",
        "def multiply(a, b):\n",
        "    return a * b\n",
        "\n",
        "def divide(a, b):\n",
        "    if b != 0:\n",
        "        return a / b\n",
        "    else:\n",
        "        return \"Error: Division by zero\"\n",
        "\n",
        "# Test the calculator functions\n",
        "print(add(10, 5))       # 15\n",
        "print(subtract(10, 5))  # 5\n",
        "print(multiply(10, 5))  # 50\n",
        "print(divide(10, 0))    # Error: Division by zero\n"
      ],
      "metadata": {
        "colab": {
          "base_uri": "https://localhost:8080/"
        },
        "id": "WRNwQ-2HVixj",
        "outputId": "f147c655-3373-4766-b053-670ed52889d8"
      },
      "execution_count": null,
      "outputs": [
        {
          "output_type": "stream",
          "name": "stdout",
          "text": [
            "15\n",
            "5\n",
            "50\n",
            "Error: Division by zero\n"
          ]
        }
      ]
    },
    {
      "cell_type": "markdown",
      "source": [
        "## **Excercise 2:** Fibonacci Sequence\n",
        "The Fibonacci sequence is a series of numbers where each number is the sum of the two preceding ones, usually starting with 0 and 1.\n",
        "\n",
        "### Exercise Details: Fibonacci Sequence Function\n",
        "\n",
        " Write a function `fibonacci` that calculates the `n`th Fibonacci number. The sequence starts with 0 and 1 as the first and second terms. The `n`th number in the Fibonacci sequence is the sum of the `(n-1)`th and `(n-2)`th numbers.\n",
        "\n",
        "**Requirements**:\n",
        "1. The function should take a positive integer `n` as input.\n",
        "2. The function should return the `n`th Fibonacci number.\n",
        "3. Consider `fibonacci(0) = 0` and `fibonacci(1) = 1` as the base cases.\n",
        "\n",
        "### Instructions\n",
        "\n",
        "1. **Understanding the Base Cases**:\n",
        "    - If `n` is 0, the function should return 0.\n",
        "    - If `n` is 1, the function should return 1.\n",
        "   \n",
        "2. **Implementing the Recursive Approach** (advanced level):\n",
        "    - For values of `n` greater than 1, the function should return the sum of calling itself with `n-1` and `n-2`.\n"
      ],
      "metadata": {
        "id": "PZ16oIjeWqhU"
      }
    },
    {
      "cell_type": "code",
      "source": [
        "### Example Code: Iterative Approach\n",
        "def fibonacci(n):\n",
        "    if n < 0 or (not isinstance(n, int)):\n",
        "      print(\"Error! n must be a postive integer!\")\n",
        "      return -9999\n",
        "    elif n == 0:\n",
        "        return 0\n",
        "    elif n == 1:\n",
        "        return 1\n",
        "    else:\n",
        "        n_2 = 0\n",
        "        n_1 = 1\n",
        "        for i in range(2, n + 1):\n",
        "          tmp = n_2 + n_1\n",
        "          n_2 = n_1\n",
        "          n_1 = tmp\n",
        "        return tmp\n",
        "\n",
        "print(fibonacci(9))  # Output: 55"
      ],
      "metadata": {
        "colab": {
          "base_uri": "https://localhost:8080/"
        },
        "id": "p0PSVw8nXMPV",
        "outputId": "6a9a04cb-dd0a-4ed1-caf4-584debcf70bf"
      },
      "execution_count": null,
      "outputs": [
        {
          "output_type": "stream",
          "name": "stdout",
          "text": [
            "34\n"
          ]
        }
      ]
    },
    {
      "cell_type": "code",
      "source": [
        "### Example Code: Recursive Approach\n",
        "def fibonacci(n):\n",
        "\n",
        "  if n < 0 or (not isinstance(n, int)):\n",
        "      print(\"Error! n must be a postive integer!\")\n",
        "      return -9999\n",
        "  elif n == 0:\n",
        "      return 0\n",
        "  elif n == 1:\n",
        "      return 1\n",
        "  else:\n",
        "      print(\"calling f(\", n, \")\")\n",
        "      return fibonacci(n-1) + fibonacci(n-2)\n",
        "\n",
        "# Test the function\n",
        "print(fibonacci(10))"
      ],
      "metadata": {
        "colab": {
          "base_uri": "https://localhost:8080/"
        },
        "id": "Q8L4hwF1ZS5b",
        "outputId": "153296ff-6f35-4062-85d2-2176d1bdd157"
      },
      "execution_count": null,
      "outputs": [
        {
          "output_type": "stream",
          "name": "stdout",
          "text": [
            "calling f( 10 )\n",
            "calling f( 9 )\n",
            "calling f( 8 )\n",
            "calling f( 7 )\n",
            "calling f( 6 )\n",
            "calling f( 5 )\n",
            "calling f( 4 )\n",
            "calling f( 3 )\n",
            "calling f( 2 )\n",
            "calling f( 2 )\n",
            "calling f( 3 )\n",
            "calling f( 2 )\n",
            "calling f( 4 )\n",
            "calling f( 3 )\n",
            "calling f( 2 )\n",
            "calling f( 2 )\n",
            "calling f( 5 )\n",
            "calling f( 4 )\n",
            "calling f( 3 )\n",
            "calling f( 2 )\n",
            "calling f( 2 )\n",
            "calling f( 3 )\n",
            "calling f( 2 )\n",
            "calling f( 6 )\n",
            "calling f( 5 )\n",
            "calling f( 4 )\n",
            "calling f( 3 )\n",
            "calling f( 2 )\n",
            "calling f( 2 )\n",
            "calling f( 3 )\n",
            "calling f( 2 )\n",
            "calling f( 4 )\n",
            "calling f( 3 )\n",
            "calling f( 2 )\n",
            "calling f( 2 )\n",
            "calling f( 7 )\n",
            "calling f( 6 )\n",
            "calling f( 5 )\n",
            "calling f( 4 )\n",
            "calling f( 3 )\n",
            "calling f( 2 )\n",
            "calling f( 2 )\n",
            "calling f( 3 )\n",
            "calling f( 2 )\n",
            "calling f( 4 )\n",
            "calling f( 3 )\n",
            "calling f( 2 )\n",
            "calling f( 2 )\n",
            "calling f( 5 )\n",
            "calling f( 4 )\n",
            "calling f( 3 )\n",
            "calling f( 2 )\n",
            "calling f( 2 )\n",
            "calling f( 3 )\n",
            "calling f( 2 )\n",
            "calling f( 8 )\n",
            "calling f( 7 )\n",
            "calling f( 6 )\n",
            "calling f( 5 )\n",
            "calling f( 4 )\n",
            "calling f( 3 )\n",
            "calling f( 2 )\n",
            "calling f( 2 )\n",
            "calling f( 3 )\n",
            "calling f( 2 )\n",
            "calling f( 4 )\n",
            "calling f( 3 )\n",
            "calling f( 2 )\n",
            "calling f( 2 )\n",
            "calling f( 5 )\n",
            "calling f( 4 )\n",
            "calling f( 3 )\n",
            "calling f( 2 )\n",
            "calling f( 2 )\n",
            "calling f( 3 )\n",
            "calling f( 2 )\n",
            "calling f( 6 )\n",
            "calling f( 5 )\n",
            "calling f( 4 )\n",
            "calling f( 3 )\n",
            "calling f( 2 )\n",
            "calling f( 2 )\n",
            "calling f( 3 )\n",
            "calling f( 2 )\n",
            "calling f( 4 )\n",
            "calling f( 3 )\n",
            "calling f( 2 )\n",
            "calling f( 2 )\n",
            "55\n"
          ]
        }
      ]
    },
    {
      "cell_type": "markdown",
      "source": [
        "## **Excercise 3:** Password Generator\n",
        "\n",
        "### Exercise Details: Password Generator Function\n",
        "\n",
        "**Objective**: Write a function `generate_password` that creates a random password. The password should be customizable based on length and the inclusion of characters such as letters (both uppercase and lowercase), numbers, and special characters.\n",
        "\n",
        "**Requirements**:\n",
        "1. The function should take the following parameters:\n",
        "   - `length`: An integer that specifies the length of the password.\n",
        "   - `use_uppercase`: A boolean that indicates whether to include uppercase letters. Default is `True`.\n",
        "   - `use_numbers`: A boolean that indicates whether to include numbers. Default is `True`.\n",
        "   - `use_special_chars`: A boolean that indicates whether to include special characters (e.g., `!`, `@`, `#`, etc.). Default is `True`.\n",
        "2. The function should return a string containing the randomly generated password.\n",
        "3. Ensure the generated password matches the criteria specified by the parameters.\n",
        "\n",
        "### Instructions\n",
        "\n",
        "1. **Import Necessary Libraries**:\n",
        "   - Use the `random` module for generating random characters.\n",
        "   - Optionally, use the `string` module to easily access predefined character classes like letters and digits.\n",
        "\n",
        "2. **Define Character Sets**:\n",
        "   - Prepare strings or lists containing the characters that can be included in the password, categorized as lowercase letters, uppercase letters, numbers, and special characters.\n",
        "\n",
        "3. **Construct the Character Pool**:\n",
        "   - Based on the function parameters (`use_uppercase`, `use_numbers`, `use_special_chars`), construct the pool of characters from which the password will be generated.\n",
        "\n",
        "4. **Generate the Password**:\n",
        "   - Randomly select characters from the pool until the desired length is reached.\n",
        "   - Ensure the final password is a mix of the requested character types if multiple types are requested.\n",
        "\n",
        "5. **Return the Password**:\n",
        "   - Return the generated password as a string.\n"
      ],
      "metadata": {
        "id": "fAGRNlx4imMs"
      }
    },
    {
      "cell_type": "code",
      "source": [
        "import random\n",
        "import string\n",
        "\n",
        "def generate_password(length, use_uppercase=True, use_numbers=True, use_special_chars=True):\n",
        "    char_pool = string.ascii_lowercase\n",
        "    if use_uppercase:\n",
        "        char_pool += string.ascii_uppercase\n",
        "    if use_numbers:\n",
        "        char_pool += string.digits\n",
        "    if use_special_chars:\n",
        "        char_pool += string.punctuation\n",
        "\n",
        "    # Ensure the password is a mix of the requested character types\n",
        "    # This section can be enhanced to ensure at least one character from each requested type is included\n",
        "\n",
        "    password = ''.join(random.choice(char_pool) for _ in range(length))\n",
        "    return password\n",
        "\n",
        "# Example usage\n",
        "print(generate_password(100))  # Generates a 12-character password with all options enabled"
      ],
      "metadata": {
        "id": "ZTovFsFQi6Vw",
        "outputId": "af6ace66-7770-41ed-86a3-acee0932a4c5",
        "colab": {
          "base_uri": "https://localhost:8080/"
        }
      },
      "execution_count": null,
      "outputs": [
        {
          "output_type": "stream",
          "name": "stdout",
          "text": [
            "oV:q%#|;I3*]-;=D'5*xJ`#=,NJFMoJI!!p-ZAlX.n%9&d<\"w_.7h[*'o+tR_~~>z)58<Xk>z9-$rSYZG6\"p\"G@5\\*q[f,0NN?cU\n"
          ]
        }
      ]
    }
  ]
}