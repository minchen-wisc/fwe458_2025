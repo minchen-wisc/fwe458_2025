{
 "cells": [
  {
   "cell_type": "markdown",
   "id": "6d77813f",
   "metadata": {},
   "source": [
    "## Lecture 3 Fundamentals of Python programming 1\n",
    "\n",
    "Python is a simple programming language. It is straightforward and the most popular language in the world today. Learning the basics of Python won't take too much of your time.\n",
    "\n",
    "Let's start with a simple example: print \"Hello world\" on your screen. This is used as the first example for almost any of the computer languages."
   ]
  },
  {
   "cell_type": "code",
   "execution_count": 26,
   "id": "c27913b3",
   "metadata": {},
   "outputs": [
    {
     "name": "stdout",
     "output_type": "stream",
     "text": [
      "Hello World\n"
     ]
    }
   ],
   "source": [
    "print(\"Hello World\") # print is a function in python which print the argument onto the screen"
   ]
  },
  {
   "cell_type": "code",
   "execution_count": 1,
   "id": "6146edb5",
   "metadata": {},
   "outputs": [
    {
     "name": "stdout",
     "output_type": "stream",
     "text": [
      "Hello World\n"
     ]
    }
   ],
   "source": [
    "print('Hello World')"
   ]
  },
  {
   "cell_type": "markdown",
   "id": "8ff63677",
   "metadata": {},
   "source": [
    "#### what if you want to print something include the quote character \" inside of a string? "
   ]
  },
  {
   "cell_type": "code",
   "execution_count": 1,
   "id": "b415a3ee",
   "metadata": {},
   "outputs": [
    {
     "ename": "SyntaxError",
     "evalue": "invalid syntax (432481286.py, line 1)",
     "output_type": "error",
     "traceback": [
      "\u001b[0;36m  File \u001b[0;32m\"/var/folders/cq/d8h3wnqx5yd2tjl34nkmynr80000gn/T/ipykernel_57819/432481286.py\"\u001b[0;36m, line \u001b[0;32m1\u001b[0m\n\u001b[0;31m    print(\"Min says \"hello world!\") # this will cause an error because python expects the string stops at the second \"\u001b[0m\n\u001b[0m                     ^\u001b[0m\n\u001b[0;31mSyntaxError\u001b[0m\u001b[0;31m:\u001b[0m invalid syntax\n"
     ]
    }
   ],
   "source": [
    "print(\"Min says \"hello world!\") # this will cause an error because python expects the string stops at the second \""
   ]
  },
  {
   "cell_type": "code",
   "execution_count": null,
   "id": "180a0c36",
   "metadata": {},
   "outputs": [],
   "source": []
  },
  {
   "cell_type": "code",
   "execution_count": 20,
   "id": "c70ecd20",
   "metadata": {},
   "outputs": [
    {
     "name": "stdout",
     "output_type": "stream",
     "text": [
      "Min's course is interesting.\n",
      "Min says 'hello world!'\n",
      "Min says \"hello world!\"\n"
     ]
    }
   ],
   "source": [
    "print(\"Min's course is interesting.\")\n",
    "print(\"Min says 'hello world!'\")\n",
    "print('Min says \"hello world!\"')\n",
    "print('Min\"s course is interesting.')"
   ]
  },
  {
   "cell_type": "code",
   "execution_count": 3,
   "id": "a8973349",
   "metadata": {},
   "outputs": [
    {
     "name": "stdout",
     "output_type": "stream",
     "text": [
      "Min says \"hello world!\n"
     ]
    }
   ],
   "source": [
    "print(\"Min says \\\"hello world!\")"
   ]
  },
  {
   "cell_type": "markdown",
   "id": "73ec8bce",
   "metadata": {},
   "source": [
    "Learning Python is very similar to learning a human language. \n",
    "***\n",
    "### <center> Vocabulary + Grammar </center>\n",
    "***\n",
    "\n",
    "## <center> \"Vocabulary\" </center>\n",
    "### Python Reserved Keywords\n",
    "from https://www.w3schools.com/python/python_ref_keywords.asp\n",
    "\n",
    "|Keyword|\tDescription|\n",
    "|---|---|\n",
    "|**and**|\tA logical operator|\n",
    "|**as**|\tTo create an alias|\n",
    "|assert|\tFor debugging|\n",
    "|**break**|\tTo break out of a loop|\n",
    "|class|\tTo define a class|\n",
    "|continue|\tTo continue to the next iteration of a loop|\n",
    "|**def**|\tTo define a function|\n",
    "|del|\tTo delete an object|\n",
    "|**elif**|\tUsed in conditional statements, same as else if|\n",
    "|**else**|\tUsed in conditional statements|\n",
    "|except|\tUsed with exceptions, what to do when an exception occurs|\n",
    "|**False**|\tBoolean value, result of comparison operations|\n",
    "|finally|\tUsed with exceptions, a block of code that will be executed no matter if there is an exception or not|\n",
    "|**for**|\tTo create a for loop|\n",
    "|**from**|\tTo import specific parts of a module|\n",
    "|global|\tTo declare a global variable|\n",
    "|**if**|\tTo make a conditional statement|\n",
    "|**import**|\tTo import a module|\n",
    "|**in**|\tTo check if a value is present in a list, tuple, etc.|\n",
    "|**is**|\tTo test if two variables are equal|\n",
    "|lambda|\tTo create an anonymous function|\n",
    "|None|\tRepresents a null value|\n",
    "|nonlocal|\tTo declare a non-local variable|\n",
    "|**not**|\tA logical operator|\n",
    "|**or**|\tA logical operator|\n",
    "|pass|\tA null statement, a statement that will do nothing|\n",
    "|raise|\tTo raise an exception|\n",
    "|**return**|\tTo exit a function and return a value|\n",
    "|**True**|\tBoolean value, result of comparison operations|\n",
    "|try|\tTo make a try...except statement|\n",
    "|**while**|\tTo create a while loop|\n",
    "|with|\tUsed to simplify exception handling|\n",
    "|yield|\tTo end a function, returns a generator|\n",
    "\n",
    "\n",
    "***\n",
    "\n",
    "## <center> \"Grammar\" </center>\n",
    "### 1. Python variables\n",
    "#### 'Variable' is key element in every programming language. It is used to store information that you will reuse in your code. Examples inlcude:\n",
    "- numeric values\n",
    "- strings such as file names, paths\n",
    "- an array of values\n",
    "- more complex data such as time series and remote sensing images\n",
    "\n"
   ]
  },
  {
   "cell_type": "code",
   "execution_count": 5,
   "id": "e589fc75",
   "metadata": {},
   "outputs": [
    {
     "name": "stdout",
     "output_type": "stream",
     "text": [
      "Calulate 1 + 2\n",
      "Answer is 3\n"
     ]
    }
   ],
   "source": [
    "s1 = \"Calulate\"\n",
    "x = 1\n",
    "s2 = \"+\"\n",
    "y = 2\n",
    "\n",
    "z = x + y\n",
    "print(s1, x, s2, y)\n",
    "print(\"Answer is\", z)"
   ]
  },
  {
   "cell_type": "markdown",
   "id": "e1f20cf0",
   "metadata": {},
   "source": [
    "You can use type() to see the type of a variable:"
   ]
  },
  {
   "cell_type": "code",
   "execution_count": 19,
   "id": "05b7d5e8",
   "metadata": {},
   "outputs": [
    {
     "data": {
      "text/plain": [
       "str"
      ]
     },
     "execution_count": 19,
     "metadata": {},
     "output_type": "execute_result"
    }
   ],
   "source": [
    "type(s1)"
   ]
  },
  {
   "cell_type": "code",
   "execution_count": 6,
   "id": "1eb3127d",
   "metadata": {},
   "outputs": [
    {
     "name": "stdout",
     "output_type": "stream",
     "text": [
      "<class 'int'>\n",
      "0.5\n",
      "<class 'float'>\n",
      "0\n"
     ]
    }
   ],
   "source": [
    "print(type(x))\n",
    "\n",
    "z = x/y\n",
    "print(z)\n",
    "print(type(z))\n",
    "print(int(z))"
   ]
  },
  {
   "cell_type": "code",
   "execution_count": 8,
   "id": "a06fe527",
   "metadata": {},
   "outputs": [
    {
     "name": "stdout",
     "output_type": "stream",
     "text": [
      "[1, 2, 3, 4, 5]\n",
      "2\n",
      "Feb\n",
      "[1, 3, 'Jan']\n"
     ]
    }
   ],
   "source": [
    "L = [1,2,3,4,5]\n",
    "print(L)\n",
    "print(L[1])\n",
    "l = [\"jan\",'Feb','March']\n",
    "print(l[1])\n",
    "\n",
    "A = [1,3,\"Jan\"]\n",
    "print(A)"
   ]
  },
  {
   "cell_type": "code",
   "execution_count": 7,
   "id": "5807cd2f",
   "metadata": {},
   "outputs": [
    {
     "name": "stdout",
     "output_type": "stream",
     "text": [
      "1\n",
      "2\n",
      "5\n",
      "5\n",
      "5\n"
     ]
    }
   ],
   "source": [
    "L = [1, 2, 3, 4, 5]\n",
    "print(L[0])\n",
    "print(L[1])\n",
    "print(L[4])\n",
    "print(L[len(L)-1])\n",
    "print(L[-1])"
   ]
  },
  {
   "cell_type": "code",
   "execution_count": 11,
   "id": "d6700816",
   "metadata": {},
   "outputs": [
    {
     "name": "stdout",
     "output_type": "stream",
     "text": [
      "[['JOhn', 'Nick', 'Morgan'], [100, 100, 100]]\n",
      "<class 'list'>\n"
     ]
    }
   ],
   "source": [
    "ScoreList = [[\"JOhn\", \"Nick\", \"Morgan\"],[100,100,100]]\n",
    "print(ScoreList)\n",
    "print(type(ScoreList))"
   ]
  },
  {
   "cell_type": "markdown",
   "id": "5ed570bd",
   "metadata": {},
   "source": [
    "Update items in a list"
   ]
  },
  {
   "cell_type": "code",
   "execution_count": 15,
   "id": "a1cbea13",
   "metadata": {},
   "outputs": [
    {
     "name": "stdout",
     "output_type": "stream",
     "text": [
      "[1, 2, 99, 4, 5]\n",
      "[1, 2, 99, 4, 75]\n"
     ]
    }
   ],
   "source": [
    "L = [1, 2, 3, 4, 5]\n",
    "L[2] = 99\n",
    "print(L)\n",
    "L[-1] = 75\n",
    "print(L)"
   ]
  },
  {
   "cell_type": "code",
   "execution_count": 9,
   "id": "1cb8388f",
   "metadata": {},
   "outputs": [
    {
     "name": "stdout",
     "output_type": "stream",
     "text": [
      "[1, 10, 3, 4, 5]\n"
     ]
    }
   ],
   "source": [
    "L = [1, 2, 3, 4, 5]\n",
    "L[1] = 10\n",
    "print(L)"
   ]
  },
  {
   "cell_type": "markdown",
   "id": "6304b92e",
   "metadata": {},
   "source": [
    "Insert an item in a list"
   ]
  },
  {
   "cell_type": "code",
   "execution_count": 14,
   "id": "f209c68e",
   "metadata": {},
   "outputs": [
    {
     "name": "stdout",
     "output_type": "stream",
     "text": [
      "[1, 2, 3, 4, 5, 2.5]\n"
     ]
    }
   ],
   "source": [
    "L = [1, 2, 3, 4, 5]\n",
    "L.insert(len(L)+1,2.5)\n",
    "print(L)"
   ]
  },
  {
   "cell_type": "markdown",
   "id": "63d82a59",
   "metadata": {},
   "source": [
    "Delete Items From a Python List"
   ]
  },
  {
   "cell_type": "code",
   "execution_count": 16,
   "id": "7e60a4a6",
   "metadata": {},
   "outputs": [
    {
     "name": "stdout",
     "output_type": "stream",
     "text": [
      "[1, 2, 4, 5]\n",
      "[1, 2, 5]\n"
     ]
    }
   ],
   "source": [
    "L = [1, 2, 3, 4, 5]\n",
    "del(L[2])\n",
    "print(L)\n",
    "del(L[2])\n",
    "print(L)"
   ]
  },
  {
   "cell_type": "code",
   "execution_count": 19,
   "id": "41fb55a8",
   "metadata": {},
   "outputs": [
    {
     "name": "stdout",
     "output_type": "stream",
     "text": [
      "[1, 2, 3, 4, 5, -1000]\n",
      "[1, 2, 3, 4, 5, -1000, 1]\n"
     ]
    }
   ],
   "source": [
    "# Append an Item to a Python List\n",
    "L = [1, 2, 3, 4, 5]\n",
    "L.append(-1000)\n",
    "print(L)\n",
    "\n",
    "print(L + [1])"
   ]
  },
  {
   "cell_type": "code",
   "execution_count": 7,
   "id": "0548a8a1",
   "metadata": {},
   "outputs": [
    {
     "name": "stdout",
     "output_type": "stream",
     "text": [
      "[1, 1, 1, 1, 1, 1, 1, 1, 1, 1, 1, 1, 1, 1, 1, 1, 1, 1, 1, 1, 1, 1, 1, 1, 1, 1, 1, 1, 1, 1, 1, 1, 1, 1, 1, 1, 1, 1, 1, 1, 1, 1, 1, 1, 1, 1, 1, 1, 1, 1, 1, 1, 1, 1, 1, 1, 1, 1, 1, 1, 1, 1, 1, 1, 1, 1, 1, 1, 1, 1, 1, 1, 1, 1, 1, 1, 1, 1, 1, 1, 1, 1, 1, 1, 1, 1, 1, 1, 1, 1, 1, 1, 1, 1, 1, 1, 1, 1, 1, 1]\n"
     ]
    }
   ],
   "source": [
    "L = [1] * 100\n",
    "print(L)"
   ]
  },
  {
   "cell_type": "code",
   "execution_count": 13,
   "id": "cb30f8a4",
   "metadata": {},
   "outputs": [
    {
     "name": "stdout",
     "output_type": "stream",
     "text": [
      "['item', 'item', 'item', 'item', 'item', 'item', 'item', 'item', 'item', 'item']\n"
     ]
    }
   ],
   "source": [
    "# create a list of single item repeated N times\n",
    "# this is a single-line comment for python\n",
    "L = [\"item\"] * 10\n",
    "\"\"\"\n",
    "this is a multiple line comment\n",
    "for python\n",
    "\"\"\"\n",
    "# this is a multiple line comment\n",
    "# for python\n",
    "\n",
    "print(L)"
   ]
  },
  {
   "cell_type": "code",
   "execution_count": 17,
   "id": "b95a7ec6",
   "metadata": {},
   "outputs": [
    {
     "name": "stdout",
     "output_type": "stream",
     "text": [
      "[1, 1, 1, 1, 1, 1, 1, 1, 1, 1, 1, 1, 1, 1, 1, 1, 1, 1, 1, 1, 1, 1, 1, 1, 1, 1, 1, 1, 1, 1, 1, 1, 1, 1, 1, 1, 1, 1, 1, 1, 1, 1, 1, 1, 1, 1, 1, 1, 1, 1, 1, 1, 1, 1, 1, 1, 1, 1, 1, 1, 1, 1, 1, 1, 1, 1, 1, 1, 1, 1, 1, 1, 1, 1, 1, 1, 1, 1, 1, 1, 1, 1, 1, 1, 1, 1, 1, 1, 1, 1, 1, 1, 1, 1, 1, 1, 1, 1, 1, 1, 'ONE', 'ONE', 'ONE', 'ONE', 'ONE', 'ONE', 'ONE', 'ONE', 'ONE', 'ONE', 'ONE', 'ONE', 'ONE', 'ONE', 'ONE', 'ONE', 'ONE', 'ONE', 'ONE', 'ONE', 'ONE', 'ONE', 'ONE', 'ONE', 'ONE', 'ONE', 'ONE', 'ONE', 'ONE', 'ONE', 'ONE', 'ONE', 'ONE', 'ONE', 'ONE', 'ONE', 'ONE', 'ONE', 'ONE', 'ONE', 'ONE', 'ONE', 'ONE', 'ONE', 'ONE', 'ONE', 'ONE', 'ONE', 'ONE', 'ONE', 'ONE', 'ONE', 'ONE', 'ONE', 'ONE', 'ONE', 'ONE', 'ONE', 'ONE', 'ONE', 'ONE', 'ONE', 'ONE', 'ONE', 'ONE', 'ONE', 'ONE', 'ONE', 'ONE', 'ONE', 'ONE', 'ONE', 'ONE', 'ONE', 'ONE', 'ONE', 'ONE', 'ONE', 'ONE', 'ONE', 'ONE', 'ONE', 'ONE', 'ONE', 'ONE', 'ONE', 'ONE', 'ONE', 'ONE', 'ONE', 'ONE', 'ONE', 'ONE', 'ONE', 'ONE', 'ONE', 'ONE', 'ONE', 'ONE', 'ONE']\n"
     ]
    }
   ],
   "source": [
    "# create a list of 10 \"1\" and 10 \"ONE\"\n",
    "L = [1,1,1,1,1,1,1,1,1,1,\"ONE\",\"ONE\", \"ONE\", \"ONE\", \"ONE\", \"ONE\", \"ONE\", \"ONE\", \"ONE\", \"ONE\"]\n",
    "\n",
    "L = [1] * 100 + [\"ONE\"] * 100\n",
    "\"\"\"\n",
    "this is a multiple line comment\n",
    "for python\n",
    "\"\"\"\n",
    "print(L)\n"
   ]
  },
  {
   "cell_type": "code",
   "execution_count": 19,
   "id": "53494335",
   "metadata": {},
   "outputs": [
    {
     "name": "stdout",
     "output_type": "stream",
     "text": [
      "[1, 2, 3, 4]\n",
      "[0, 1, 2, 3, 4]\n",
      "[10, 8, 6]\n",
      "[1, 2, 3, 4, 5]\n",
      "[1, 2, 3, 4]\n"
     ]
    }
   ],
   "source": [
    "# create a list of number 1 to N\n",
    "L = list(range(1, 5)) # range(1, N) 1,2,3,4,...,N-1\n",
    "print(L)\n",
    "\n",
    "L = list(range(0, 5))\n",
    "print(L)\n",
    "\n",
    "L = list(range(10, 5, -2))\n",
    "print(L)\n",
    "\n",
    "L = list(range(1, 6))\n",
    "print(L)\n",
    "\n",
    "# Use numpy\n",
    "import numpy\n",
    "L = list(numpy.arange(1,5))\n",
    "print(L)"
   ]
  },
  {
   "cell_type": "markdown",
   "id": "1c21bafd",
   "metadata": {},
   "source": [
    "### 2. Basic rules of writing a python code\n",
    "#### 2.1 Indentation\n",
    "- Indentation means the spaces at the beginning of a code line.\n",
    "- Indentation in Python is important because Python uses indentation to indicate a code block.\n",
    "- Indentation could be one or more spaces/tabs. Usually four spaces is recommended.\n",
    "- Most coding tools including Jupyter Notebook support auto indentation.\n",
    "\n",
    "#### 2.2 Comments\n",
    "- It is a good habit to write comments while coding\n",
    "- Use # for single-line comment\n",
    "- Use \"\"\" for mult-line comments\n",
    "\n"
   ]
  },
  {
   "cell_type": "code",
   "execution_count": 26,
   "id": "a8d78c8e",
   "metadata": {},
   "outputs": [
    {
     "ename": "NameError",
     "evalue": "name 'zz' is not defined",
     "output_type": "error",
     "traceback": [
      "\u001b[0;31m---------------------------------------------------------------------------\u001b[0m",
      "\u001b[0;31mNameError\u001b[0m                                 Traceback (most recent call last)",
      "\u001b[0;32m/var/folders/cq/d8h3wnqx5yd2tjl34nkmynr80000gn/T/ipykernel_57819/1265749567.py\u001b[0m in \u001b[0;36m<module>\u001b[0;34m\u001b[0m\n\u001b[1;32m      3\u001b[0m     \u001b[0mprint\u001b[0m\u001b[0;34m(\u001b[0m\u001b[0;34m\"x is\"\u001b[0m\u001b[0;34m,\u001b[0m \u001b[0mx\u001b[0m\u001b[0;34m)\u001b[0m\u001b[0;34m\u001b[0m\u001b[0;34m\u001b[0m\u001b[0m\n\u001b[1;32m      4\u001b[0m     \u001b[0mzz\u001b[0m \u001b[0;34m=\u001b[0m \u001b[0;36m2\u001b[0m\u001b[0;34m\u001b[0m\u001b[0;34m\u001b[0m\u001b[0m\n\u001b[0;32m----> 5\u001b[0;31m \u001b[0mprint\u001b[0m\u001b[0;34m(\u001b[0m\u001b[0mzz\u001b[0m\u001b[0;34m)\u001b[0m\u001b[0;34m\u001b[0m\u001b[0;34m\u001b[0m\u001b[0m\n\u001b[0m",
      "\u001b[0;31mNameError\u001b[0m: name 'zz' is not defined"
     ]
    }
   ],
   "source": [
    "x = 4\n",
    "if x < 3:\n",
    "    print(\"x is\", x)\n",
    "    zz = 2\n",
    "print(zz)"
   ]
  },
  {
   "cell_type": "code",
   "execution_count": 3,
   "id": "76d07871",
   "metadata": {},
   "outputs": [
    {
     "name": "stdout",
     "output_type": "stream",
     "text": [
      "[1, 2, 3, 4]\n",
      "[1, 2, 3, 4, 1]\n"
     ]
    }
   ],
   "source": [
    "# This is an example for python comment\n",
    "a = 1 # assign 1 to variable a\n",
    "\n",
    "\"\"\"\n",
    "now let's append a to a list\n",
    "The list is the L we used above\n",
    "\"\"\"\n",
    "L = [1, 2, 3, 4]\n",
    "print(L)\n",
    "L = L + [a]\n",
    "print(L)"
   ]
  },
  {
   "cell_type": "code",
   "execution_count": 29,
   "id": "b75c3793",
   "metadata": {},
   "outputs": [
    {
     "name": "stdout",
     "output_type": "stream",
     "text": [
      "1 1.0\n",
      "1\n"
     ]
    }
   ],
   "source": [
    "a = \"1\"\n",
    "b = float(a)\n",
    "print(a, b)\n",
    "\n",
    "c = int(b)\n",
    "print(c)"
   ]
  },
  {
   "cell_type": "code",
   "execution_count": 6,
   "id": "49cab1e6",
   "metadata": {},
   "outputs": [
    {
     "name": "stdout",
     "output_type": "stream",
     "text": [
      "2\n"
     ]
    }
   ],
   "source": [
    "L = [1, 2, 3, 4]\n",
    "print(L[a])"
   ]
  },
  {
   "cell_type": "markdown",
   "id": "bb71f774",
   "metadata": {},
   "source": [
    "### 3. Python operators\n",
    "\n",
    "### Operators in Python\n",
    "See https://www.w3schools.com/python/python_operators.asp\n",
    "Below list several most frequently used ones\n",
    "\n",
    "|Keyword|\tDescription|\n",
    "|---|---|\n",
    "|+|addition|\n",
    "|-|substraction|\n",
    "|*|multiplication|\n",
    "|/|division|\n",
    "|%|modulus|\n",
    "|**|exponetiation|\n",
    "|//|floor division|\n",
    "|=|assignment|\n",
    "|==|equal|\n",
    "|!=|not equal|\n",
    "|>|greater than|\n",
    "|<|less than|\n",
    "|>=|greater than or equal to|\n",
    "|<=|less than or equal to|\n",
    "|and|Returns True if both statements are true|\n",
    "|or|Returns True if one of the statements is true|\n",
    "|not|Reverse the result, returns False if the result is true|\n",
    "|in|Returns True if a sequence with the specified value is present in the object|\n",
    "|not in|Returns True if a sequence with the specified value is not present in the object|\n"
   ]
  },
  {
   "cell_type": "code",
   "execution_count": 8,
   "id": "8c414db9",
   "metadata": {},
   "outputs": [
    {
     "name": "stdout",
     "output_type": "stream",
     "text": [
      "5 45 6.708203932499369\n",
      "1.8365472910927456\n",
      "5\n"
     ]
    }
   ],
   "source": [
    "a = 3 + 2\n",
    "b = a * 9\n",
    "c = b ** 0.5 # c = square root of b\n",
    "print(a, b, c)\n",
    "\n",
    "print(27%5*1000/33**2)\n",
    "print(27//5)"
   ]
  },
  {
   "cell_type": "code",
   "execution_count": 12,
   "id": "67d6bd57",
   "metadata": {},
   "outputs": [
    {
     "name": "stdout",
     "output_type": "stream",
     "text": [
      "['Jan', 'Feb', 'March', 'April']\n",
      "['Jan', 'Feb', 'March', 'April', 'Jan', 'Feb', 'March', 'April', 'Jan', 'Feb', 'March', 'April']\n"
     ]
    }
   ],
   "source": [
    "months = [\"Jan\", \"Feb\", \"March\"]\n",
    "months = months + [\"April\"]\n",
    "print(months)\n",
    "print(months * 3)"
   ]
  },
  {
   "cell_type": "code",
   "execution_count": 14,
   "id": "74d9ca1a",
   "metadata": {},
   "outputs": [
    {
     "name": "stdout",
     "output_type": "stream",
     "text": [
      "46.019999999999996\n",
      "7\n"
     ]
    }
   ],
   "source": [
    "# Arithmetic Assignment\n",
    "# x *= y is the same as x = x * y\n",
    "a = 15.34\n",
    "a *= 3 # the same as a = a * 3\n",
    "print(a)\n",
    "\n",
    "a = 2\n",
    "a += 5 # a = a + 5\n",
    "print(a)"
   ]
  },
  {
   "cell_type": "code",
   "execution_count": 15,
   "id": "80b8e41f",
   "metadata": {},
   "outputs": [
    {
     "name": "stdout",
     "output_type": "stream",
     "text": [
      "False\n",
      "False\n",
      "True\n"
     ]
    }
   ],
   "source": [
    "# relational operators\n",
    "\n",
    "# is a < b?\n",
    "a = 3\n",
    "b = 10\n",
    "print(a > b)\n",
    "\n",
    "print(a == b)\n",
    "\n",
    "print(a < b)"
   ]
  },
  {
   "cell_type": "code",
   "execution_count": 16,
   "id": "8726bc93",
   "metadata": {},
   "outputs": [
    {
     "data": {
      "text/plain": [
       "False"
      ]
     },
     "execution_count": 16,
     "metadata": {},
     "output_type": "execute_result"
    }
   ],
   "source": [
    "# membership operator\n",
    "months = ['Jan', 'Feb', 'March', 'April']\n",
    "'May' in months"
   ]
  },
  {
   "cell_type": "code",
   "execution_count": 23,
   "id": "e7f96097",
   "metadata": {},
   "outputs": [
    {
     "name": "stdout",
     "output_type": "stream",
     "text": [
      "True\n",
      "True\n",
      "False\n",
      "True\n",
      "False\n",
      "False\n"
     ]
    }
   ],
   "source": [
    "# logical operators\n",
    "months = ['Jan', 'Feb', 'March', 'April']\n",
    "# TRUE and TRUE\n",
    "print('Jan' in months and 1 < 4)\n",
    "\n",
    "# TRUE or TRUE\n",
    "print('Jan' in months or 1 < 4)\n",
    "\n",
    "# TRUE and FALSE\n",
    "print('Jan' in months and 1 > 4)\n",
    "\n",
    "# TRUE or FALSE\n",
    "print('Jan' in months or 1 < 4)\n",
    "\n",
    "# FALSE and FALSE\n",
    "print('jan' in months and 1 > 4)\n",
    "\n",
    "# FALSE or FALSE\n",
    "print('jan' in months or 1 > 4)\n"
   ]
  },
  {
   "cell_type": "code",
   "execution_count": 18,
   "id": "a8fd7b99",
   "metadata": {},
   "outputs": [
    {
     "name": "stdout",
     "output_type": "stream",
     "text": [
      "True\n",
      "True\n",
      "True\n",
      "False\n",
      "False\n",
      "False\n",
      "True\n"
     ]
    }
   ],
   "source": [
    "# Identity Operators\n",
    "a = 3\n",
    "b = 3\n",
    "print(a == b)\n",
    "print(a is b)\n",
    "\n",
    "a = 3\n",
    "b = 3.0\n",
    "print(a == b)\n",
    "print(a is b)\n",
    "\n",
    "L1 = [1,2,3]\n",
    "L2 = [\"ONE\",\"TWO\",\"THREE\"]\n",
    "print(L1 == L2)\n",
    "print(L1 is L2)\n",
    "\n",
    "print(L1 is not L2)"
   ]
  },
  {
   "cell_type": "code",
   "execution_count": null,
   "id": "89ebabbb",
   "metadata": {},
   "outputs": [],
   "source": []
  }
 ],
 "metadata": {
  "kernelspec": {
   "display_name": "Python 3 (ipykernel)",
   "language": "python",
   "name": "python3"
  },
  "language_info": {
   "codemirror_mode": {
    "name": "ipython",
    "version": 3
   },
   "file_extension": ".py",
   "mimetype": "text/x-python",
   "name": "python",
   "nbconvert_exporter": "python",
   "pygments_lexer": "ipython3",
   "version": "3.9.7"
  }
 },
 "nbformat": 4,
 "nbformat_minor": 5
}
